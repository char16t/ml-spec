{
  "nbformat": 4,
  "nbformat_minor": 0,
  "metadata": {
    "colab": {
      "name": "Week3-Task2-Global-optimization.ipynb",
      "provenance": [],
      "collapsed_sections": []
    },
    "kernelspec": {
      "name": "python3",
      "display_name": "Python 3"
    }
  },
  "cells": [
    {
      "cell_type": "markdown",
      "metadata": {
        "id": "tTAjxH5xYF-n",
        "colab_type": "text"
      },
      "source": [
        "Necessary imports:"
      ]
    },
    {
      "cell_type": "code",
      "metadata": {
        "id": "C1WcM3TmX9nF",
        "colab_type": "code",
        "colab": {}
      },
      "source": [
        "import math\n",
        "import numpy as np\n",
        "import scipy as sp\n",
        "from scipy import optimize\n",
        "import matplotlib as mpl\n",
        "from matplotlib import pylab as plt\n",
        "\n",
        "%matplotlib inline"
      ],
      "execution_count": 0,
      "outputs": []
    },
    {
      "cell_type": "markdown",
      "metadata": {
        "id": "z68VbKQXYK0y",
        "colab_type": "text"
      },
      "source": [
        "Define original function and interval's boundaries:"
      ]
    },
    {
      "cell_type": "code",
      "metadata": {
        "id": "p0te-KBKYM0O",
        "colab_type": "code",
        "colab": {}
      },
      "source": [
        "interval_start = 1\n",
        "interval_end = 30\n",
        "\n",
        "def f(x):\n",
        "  return np.sin(x / 5.0) * np.exp(x / 10.0) + 5 * np.exp(-x / 2.0)"
      ],
      "execution_count": 0,
      "outputs": []
    },
    {
      "cell_type": "markdown",
      "metadata": {
        "id": "af6pvA95YR7B",
        "colab_type": "text"
      },
      "source": [
        "Visualize function on defined interval:"
      ]
    },
    {
      "cell_type": "code",
      "metadata": {
        "id": "rmz0OARNYU9D",
        "colab_type": "code",
        "outputId": "66c0f6de-a258-4ae3-9397-2b78e5d0f579",
        "colab": {
          "base_uri": "https://localhost:8080/",
          "height": 269
        }
      },
      "source": [
        "x = np.arange(interval_start, interval_end, 0.2)\n",
        "y = f(x)\n",
        "plt.plot(x, y, 'b')\n",
        "plt.show()"
      ],
      "execution_count": 0,
      "outputs": [
        {
          "output_type": "display_data",
          "data": {
            "image/png": "[encoded data removed]",
            "text/plain": [
              "<Figure size 432x288 with 1 Axes>"
            ]
          },
          "metadata": {
            "tags": []
          }
        }
      ]
    },
    {
      "cell_type": "markdown",
      "metadata": {
        "id": "s8QSQ0j5ZbVJ",
        "colab_type": "text"
      },
      "source": [
        "Find minimum of this function on defined interval using differential evolution:"
      ]
    },
    {
      "cell_type": "code",
      "metadata": {
        "id": "FahPioi5ZcM1",
        "colab_type": "code",
        "outputId": "b85fc514-9068-4d4c-a576-b28d4e4743dc",
        "colab": {
          "base_uri": "https://localhost:8080/",
          "height": 136
        }
      },
      "source": [
        "sp.optimize.differential_evolution(f, [(interval_start, interval_end)])"
      ],
      "execution_count": 0,
      "outputs": [
        {
          "output_type": "execute_result",
          "data": {
            "text/plain": [
              "     fun: array([-11.89889467])\n",
              "     jac: array([0.])\n",
              " message: 'Optimization terminated successfully.'\n",
              "    nfev: 98\n",
              "     nit: 5\n",
              " success: True\n",
              "       x: array([25.88019298])"
            ]
          },
          "metadata": {
            "tags": []
          },
          "execution_count": 6
        }
      ]
    }
  ]
}