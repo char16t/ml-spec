{
  "nbformat": 4,
  "nbformat_minor": 0,
  "metadata": {
    "colab": {
      "name": "Task1-Texts-Similarity.ipynb",
      "provenance": [],
      "collapsed_sections": []
    },
    "kernelspec": {
      "name": "python3",
      "display_name": "Python 3"
    }
  },
  "cells": [
    {
      "cell_type": "markdown",
      "metadata": {
        "id": "yVOsYzU0EV6U",
        "colab_type": "text"
      },
      "source": [
        "# Texts similarity\n",
        "\n",
        "You have set of sentences copied from Wikipedia. Every of them related with \"cats\" in one of these contexts:\n",
        "\n",
        " * Cats (animals)\n",
        " * Unix-tool `cat` for printing files content to console\n",
        " * Versions of operation system OS X named after the cat family\n",
        "\n",
        "\n",
        " Your task is find two most similar sentences with sentence in first line. Similarity in this task means minimal cosine distance."
      ]
    },
    {
      "cell_type": "code",
      "metadata": {
        "id": "P8b2omPuCNiX",
        "colab_type": "code",
        "colab": {}
      },
      "source": [
        "# Imports\n",
        "import numpy as np\n",
        "import scipy as sp\n",
        "import scipy.spatial\n",
        "import matplotlib as mpl\n",
        "from matplotlib import pylab as plt\n",
        "import pandas as pd\n",
        "\n",
        "%matplotlib inline\n",
        "\n",
        "import re"
      ],
      "execution_count": 0,
      "outputs": []
    },
    {
      "cell_type": "code",
      "metadata": {
        "id": "CE6x2WCRCeWb",
        "colab_type": "code",
        "colab": {
          "base_uri": "https://localhost:8080/",
          "height": 34
        },
        "outputId": "82e4859a-ece2-453d-d81e-9bdf12744a82"
      },
      "source": [
        "# Original text\n",
        "text = \"\"\"In comparison to dogs, cats have not undergone major changes during the domestication process.\n",
        "As cat simply catenates streams of bytes, it can be also used to concatenate binary files, where it will just concatenate sequence of bytes.\n",
        "A common interactive use of cat for a single file is to output the content of a file to standard output.\n",
        "Cats can hear sounds too faint or too high in frequency for human ears, such as those made by mice and other small animals.\n",
        "In one, people deliberately tamed cats in a process of artificial selection, as they were useful predators of vermin.\n",
        "The domesticated cat and its closest wild ancestor are both diploid organisms that possess 38 chromosomes and roughly 20,000 genes.\n",
        "Domestic cats are similar in size to the other members of the genus Felis, typically weighing between 4 and 5 kg (8.8 and 11.0 lb).\n",
        "However, if the output is piped or redirected, cat is unnecessary.\n",
        "cat with one named file is safer where human error is a concern - one wrong use of the default redirection symbol \">\" instead of \"<\" (often adjacent on keyboards) may permanently delete the file you were just needing to read.\n",
        "In terms of legibility, a sequence of commands starting with cat and connected by pipes has a clear left-to-right flow of information.\n",
        "Cat command is one of the basic commands that you learned when you started in the Unix / Linux world.\n",
        "Using cat command, the lines received from stdin can be redirected to a new file using redirection symbols.\n",
        "When you type simply cat command without any arguments, it just receives the stdin content and displays it in the stdout.\n",
        "Leopard was released on October 26, 2007 as the successor of Tiger (version 10.4), and is available in two editions.\n",
        "According to Apple, Leopard contains over 300 changes and enhancements over its predecessor, Mac OS X Tiger.\n",
        "As of Mid 2010, some Apple computers have firmware factory installed which will no longer allow installation of Mac OS X Leopard.\n",
        "Since Apple moved to using Intel processors in their computers, the OSx86 community has developed and now also allows Mac OS X Tiger and later releases to be installed on non-Apple x86-based computers.\n",
        "OS X Mountain Lion was released on July 25, 2012 for purchase and download through Apple's Mac App Store, as part of a switch to releasing OS X versions online and every year.\n",
        "Apple has released a small patch for the three most recent versions of Safari running on OS X Yosemite, Mavericks, and Mountain Lion.\n",
        "The Mountain Lion release marks the second time Apple has offered an incremental upgrade, rather than releasing a new cat entirely.\n",
        "Mac OS X Mountain Lion installs in place, so you won't need to create a separate disk or run the installation off an external drive.\n",
        "The fifth major update to Mac OS X, Leopard, contains such a mountain of features - more than 300 by Apple's count.\"\"\"\n",
        "\n",
        "# Split original text to sentences\n",
        "sentences = text.lower().split(\"\\n\")\n",
        "\n",
        "# Build words index\n",
        "# Associate every word with unique index\n",
        "words_index = dict()\n",
        "words_count = []\n",
        "for sentence in sentences:\n",
        "  t = re.split('[^a-z]', sentence)\n",
        "  words_count_local = dict()\n",
        "  for word in t:\n",
        "    if word != '':\n",
        "      if word in words_count_local:\n",
        "        words_count_local[word] += 1\n",
        "      else:\n",
        "        words_count_local[word] = 1\n",
        "      if not word in words_index:\n",
        "        words_index[word] = len(words_index)\n",
        "  words_count.append(words_count_local)\n",
        "\n",
        "# Build matrix\n",
        "# Rows is vectors, every N-th coordinate in vector associated with number of\n",
        "# N-th word in this sentence \n",
        "n_sentences = len(sentences)\n",
        "n_words = len(words_index)\n",
        "matrix = np.zeros((n_sentences, n_words))\n",
        "\n",
        "sentence_index = 0\n",
        "for sentence in words_count:\n",
        "  for word, count in sentence.items():\n",
        "    if word in words_index:\n",
        "      matrix[sentence_index, words_index[word]] = count\n",
        "  sentence_index += 1\n",
        "\n",
        "# Find most similar sentences with first sentence. Most similar sentences have\n",
        "# minimal cosine distance \n",
        "res = []\n",
        "for index in range(1, n_sentences):\n",
        "  res.append((index, sp.spatial.distance.cosine(matrix[0], matrix[index])))\n",
        "\n",
        "r = [x[0] for x in sorted(res, key = lambda t: t[1])[0:2]]"
      ],
      "execution_count": 3,
      "outputs": [
        {
          "output_type": "execute_result",
          "data": {
            "text/plain": [
              "[6, 4]"
            ]
          },
          "metadata": {
            "tags": []
          },
          "execution_count": 3
        }
      ]
    },
    {
      "cell_type": "code",
      "metadata": {
        "id": "D056WZ0uCj-U",
        "colab_type": "code",
        "colab": {}
      },
      "source": [
        "# Write result to file\n",
        "with open('submission-1.txt', 'w') as f:\n",
        "  f.write(str(r[0]) + \" \" + str(r[1]))"
      ],
      "execution_count": 0,
      "outputs": []
    }
  ]
}