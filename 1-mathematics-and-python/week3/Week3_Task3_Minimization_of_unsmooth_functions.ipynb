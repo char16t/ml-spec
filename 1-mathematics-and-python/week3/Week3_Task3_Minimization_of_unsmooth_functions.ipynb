{
  "nbformat": 4,
  "nbformat_minor": 0,
  "metadata": {
    "colab": {
      "name": "Week3-Task3-Minimization-of-unsmooth-functions.ipynb",
      "provenance": [],
      "collapsed_sections": []
    },
    "kernelspec": {
      "name": "python3",
      "display_name": "Python 3"
    }
  },
  "cells": [
    {
      "cell_type": "markdown",
      "metadata": {
        "id": "YeHf8yHaazgD",
        "colab_type": "text"
      },
      "source": [
        "Necessary imports:"
      ]
    },
    {
      "cell_type": "code",
      "metadata": {
        "id": "wtb8BY1Napar",
        "colab_type": "code",
        "colab": {}
      },
      "source": [
        "import math\n",
        "import numpy as np\n",
        "import scipy as sp\n",
        "from scipy import optimize\n",
        "import matplotlib as mpl\n",
        "from matplotlib import pylab as plt\n",
        "\n",
        "%matplotlib inline"
      ],
      "execution_count": 0,
      "outputs": []
    },
    {
      "cell_type": "markdown",
      "metadata": {
        "id": "_AUm6mVKa587",
        "colab_type": "text"
      },
      "source": [
        "Define original function and interval's boundaries:"
      ]
    },
    {
      "cell_type": "code",
      "metadata": {
        "id": "5HY4Lw0ga6eU",
        "colab_type": "code",
        "colab": {}
      },
      "source": [
        "interval_start = 1\n",
        "interval_end = 30\n",
        "\n",
        "def f(x):\n",
        "  return np.sin(x / 5.0) * np.exp(x / 10.0) + 5 * np.exp(-x / 2.0)\n",
        "\n",
        "def h(x):\n",
        "  return np.int(f(x))"
      ],
      "execution_count": 0,
      "outputs": []
    },
    {
      "cell_type": "markdown",
      "metadata": {
        "id": "JlPccOXgbB1c",
        "colab_type": "text"
      },
      "source": [
        "Visualize function on defined interval:"
      ]
    },
    {
      "cell_type": "code",
      "metadata": {
        "id": "mCRenpItbBT5",
        "colab_type": "code",
        "outputId": "e2045555-e860-4f68-c84e-58808d2a37de",
        "colab": {
          "base_uri": "https://localhost:8080/",
          "height": 269
        }
      },
      "source": [
        "x = np.arange(interval_start, interval_end, 0.2)\n",
        "y = [h(i) for i in x]\n",
        "plt.plot(x, y, 'b')\n",
        "plt.show()"
      ],
      "execution_count": 0,
      "outputs": [
        {
          "output_type": "display_data",
          "data": {
            "image/png": "[encoded data removed]",
            "text/plain": [
              "<Figure size 432x288 with 1 Axes>"
            ]
          },
          "metadata": {
            "tags": []
          }
        }
      ]
    },
    {
      "cell_type": "markdown",
      "metadata": {
        "id": "9N02OWJOeHv1",
        "colab_type": "text"
      },
      "source": [
        "Find minimum using BFGS:"
      ]
    },
    {
      "cell_type": "code",
      "metadata": {
        "id": "tH7jfiYGeN2s",
        "colab_type": "code",
        "outputId": "50e0130d-3453-4a31-e5de-986cb58b93d9",
        "colab": {
          "base_uri": "https://localhost:8080/",
          "height": 187
        }
      },
      "source": [
        "sp.optimize.minimize(h, [30], method='BFGS')"
      ],
      "execution_count": 0,
      "outputs": [
        {
          "output_type": "execute_result",
          "data": {
            "text/plain": [
              "      fun: -5\n",
              " hess_inv: array([[1]])\n",
              "      jac: array([0.])\n",
              "  message: 'Optimization terminated successfully.'\n",
              "     nfev: 3\n",
              "      nit: 0\n",
              "     njev: 1\n",
              "   status: 0\n",
              "  success: True\n",
              "        x: array([30.])"
            ]
          },
          "metadata": {
            "tags": []
          },
          "execution_count": 18
        }
      ]
    },
    {
      "cell_type": "markdown",
      "metadata": {
        "id": "JNWz_8i1dw7o",
        "colab_type": "text"
      },
      "source": [
        "Find minimum using Differential evolution:"
      ]
    },
    {
      "cell_type": "code",
      "metadata": {
        "id": "m_JDiS3md0sA",
        "colab_type": "code",
        "outputId": "867b4b4b-0489-435f-8471-b5ee98534673",
        "colab": {
          "base_uri": "https://localhost:8080/",
          "height": 119
        }
      },
      "source": [
        "sp.optimize.differential_evolution(h, [(interval_start, interval_end)])"
      ],
      "execution_count": 0,
      "outputs": [
        {
          "output_type": "execute_result",
          "data": {
            "text/plain": [
              "     fun: -11.0\n",
              " message: 'Optimization terminated successfully.'\n",
              "    nfev: 92\n",
              "     nit: 5\n",
              " success: True\n",
              "       x: array([24.28805311])"
            ]
          },
          "metadata": {
            "tags": []
          },
          "execution_count": 19
        }
      ]
    }
  ]
}